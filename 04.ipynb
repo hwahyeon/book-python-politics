{
 "cells": [
  {
   "cell_type": "markdown",
   "metadata": {},
   "source": [
    "# 제4장 API를 통한 데이터 수집"
   ]
  },
  {
   "cell_type": "markdown",
   "metadata": {},
   "source": [
    "* 오래전에 공부한 내용을 ipynb형식으로 변경한 것임."
   ]
  },
  {
   "cell_type": "markdown",
   "metadata": {},
   "source": [
    "### API\n",
    "* Application Programming Interface : 사용자가 서버로부터 데이터를 보다 편하게 가져올 수 있도록 하는 인터페이스\n",
    "* API는 일반적으로 사용자가 URL or HTTP를 통해 서버에 request하면, 서버는 HTML, XML, JSON 등으로 response해준다.\n",
    "* 트위터는 tweepy를 통해 데이터를 추출한다."
   ]
  },
  {
   "cell_type": "code",
   "execution_count": null,
   "metadata": {},
   "outputs": [],
   "source": [
    "# Naver API 신문기사 추출\n",
    "import requests\n",
    "import json\n",
    "\n",
    "Client_ID = 'aaaaaa'\n",
    "Client_Secret = 'bbbbbb'\n",
    "\n",
    "url = 'https://openapi.naver.com/v1/search/news.json?query=박하사탕'\n",
    "headers = {\n",
    "    'X-Naver-Client-Id': Client_ID,\n",
    "    'X-Naver-Client-Secret': Client_Secret,\n",
    "}\n",
    "req = requests.get(url, headers=headers)\n",
    "\n",
    "# print\n",
    "json_data = json.loads(req.text)\n",
    "\n",
    "for data in json_data['items']:\n",
    "    print('title:{0}, link:{1}, contents:{2}, date:{3}'.format(data['title'], data['originallink'], data['description'], data['pubDate']))"
   ]
  },
  {
   "cell_type": "code",
   "execution_count": 5,
   "metadata": {},
   "outputs": [
    {
     "name": "stdout",
     "output_type": "stream",
     "text": [
      "시기:2008,행정구역별:대구광역시,연령별:계,\\계:2492724\n",
      "시기:2008,행정구역별:대구광역시,연령별:계,\\계:1246873\n",
      "시기:2008,행정구역별:대구광역시,연령별:계,\\계:1245851\n"
     ]
    }
   ],
   "source": [
    "# 통계청 API를 이용한 데이터 추출\n",
    "\n",
    "import requests\n",
    "import json\n",
    "\n",
    "url = 'https://kosis.kr/openapi/Param/statisticsParameterData.do?method=getList&apiKey=NWZjZThiNGRjMWFlYTkyOGRjNzVlMzRjMTY3NGU3MGI=&itmId=1620313103111030T1+1620313103111031T2+1620313103111122T4+&objL1=1520311220+&objL2=152031111A001+&objL3=&objL4=&objL5=&objL6=&objL7=&objL8=&format=json&jsonVD=Y&prdSe=Y&startPrdDe=2008&endPrdDe=2008&loadGubun=2&orgId=203&tblId=DT_203N100005'\n",
    "req = requests.get(url)\n",
    "\n",
    "json_file = json.loads(req.text)\n",
    "for row in json_file:\n",
    "    print('시기:{0},행정구역별:{1},연령별:{2},\\계:{3}'.format(row['PRD_DE'], row['C1_NM'], row['C2_NM'],row['DT']))"
   ]
  }
 ],
 "metadata": {
  "kernelspec": {
   "display_name": "Python 3.7.7 64-bit",
   "language": "python",
   "name": "python3"
  },
  "language_info": {
   "codemirror_mode": {
    "name": "ipython",
    "version": 3
   },
   "file_extension": ".py",
   "mimetype": "text/x-python",
   "name": "python",
   "nbconvert_exporter": "python",
   "pygments_lexer": "ipython3",
   "version": "3.7.7"
  },
  "orig_nbformat": 4,
  "vscode": {
   "interpreter": {
    "hash": "d49c3f6d6dd49f9272b571d9fad348ab55b8c6c3f691520d74ed0af1f69c3dd8"
   }
  }
 },
 "nbformat": 4,
 "nbformat_minor": 2
}
