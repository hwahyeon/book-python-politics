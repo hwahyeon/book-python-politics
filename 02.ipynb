{
 "cells": [
  {
   "cell_type": "markdown",
   "metadata": {},
   "source": [
    "# 제2장 파이썬 기본 문법"
   ]
  },
  {
   "cell_type": "code",
   "execution_count": null,
   "metadata": {},
   "outputs": [],
   "source": [
    "* 오래전에 공부한 내용을 ipynb형식으로 변경한 것임."
   ]
  },
  {
   "cell_type": "code",
   "execution_count": 3,
   "metadata": {},
   "outputs": [
    {
     "name": "stdout",
     "output_type": "stream",
     "text": [
      "1004\n",
      "1009\n"
     ]
    }
   ],
   "source": [
    "# 변수에 숫자 더하는 함수\n",
    "a = 1004\n",
    "a.__add__(5)\n",
    "print(a)\n",
    "print(a.__add__(5))"
   ]
  },
  {
   "cell_type": "markdown",
   "metadata": {},
   "source": [
    "### 문자형 데이터\n",
    "* 컴퓨터에서 보이는 문자는 특정한 문자열 인코딩 방식으로 저장된 바이트(또는 비트) 간의 연결이다."
   ]
  },
  {
   "cell_type": "markdown",
   "metadata": {},
   "source": [
    "### 문자열 함수\n",
    "strip() : () 안 기호를 기준으로 좌우 공백 제거\n",
    "rstrip()\n",
    "lstrip()\n",
    "isdigit() : 문자열이 숫자인지 여부 판별\n",
    "startswith() : 문자열의 시작이 () 안 문자로 시작하는지 여부 판별"
   ]
  },
  {
   "cell_type": "markdown",
   "metadata": {},
   "source": [
    "### 숫자형 데이터\n",
    "* 사칙연산을 위한 기호를 Operator(연산자)라 한다.\n",
    "* 사칙연산의 대상이 되는 숫자형 데이터를 Operand(피연산자)라 한다.\n",
    "* 문자형 데이터도 Operand가 될 수 있다."
   ]
  },
  {
   "cell_type": "code",
   "execution_count": 4,
   "metadata": {},
   "outputs": [
    {
     "name": "stdout",
     "output_type": "stream",
     "text": [
      "['a', 'b', 'c', 'd', 'g']\n"
     ]
    }
   ],
   "source": [
    "# extend\n",
    "eg = ['a', 'b', 'c']\n",
    "eg.extend(['d', 'g']) # 리스트에 ['d', 'g'] 삽입\n",
    "print(eg)"
   ]
  },
  {
   "cell_type": "markdown",
   "metadata": {},
   "source": [
    "### 집합\n",
    "* 집합의 선언방식인 {}이며, 여기에 한 가지 요소만을 지닌 데이터를 입력할 경우, 집합형으로 인식된다.\n",
    "* 사전형 자료의 선언 방식도 {}이며, 두 가지 요소를 지닌 데이터를 입력하면, 사전형으로 인식된다.\n",
    "* {}에 아무 값도 입력되지 않을 경우, 사전형으로 인식된다."
   ]
  },
  {
   "cell_type": "code",
   "execution_count": 5,
   "metadata": {},
   "outputs": [
    {
     "name": "stdout",
     "output_type": "stream",
     "text": [
      "<class 'dict'>\n"
     ]
    }
   ],
   "source": [
    "eg2 = {}\n",
    "print(type(eg2))"
   ]
  },
  {
   "cell_type": "markdown",
   "metadata": {},
   "source": [
    "### 클래스\n",
    "* 프로그래밍에선 같은 동작을 반복해서 행할 때 함수를 사용한다.\n",
    "* 하지만 인자가 많거나, 함수에 또 다른 함수를 삽입해야 할 경우에는 비효율적일 수 있다.\n",
    "* 이런 경우 class를 사용한다.\n",
    "|예시|클래스|\n",
    "|---|---|\n",
    "|붕어빵 틀|클래스|\n",
    "|반죽과 팥|데이터|\n",
    "|붕어빵 틀로 만든 결과|객체(인스턴스)|\n",
    "|붕어빵 틀의 다양한 요소(틀에 새겨진 모양 등)|속성(attribute)|\n",
    "\n",
    "* 환언하면, 붕어빵 틀(클래스)에 새겨진 모양(속성)에 따라, 반죽과 팥(데이터)을 넣어 돌리면, 새로운 붕어빵(객체)가 만들어진다.\n",
    "* 클래스의 이름은 CamelCase(medial capitals)를 따른다."
   ]
  },
  {
   "cell_type": "code",
   "execution_count": null,
   "metadata": {},
   "outputs": [],
   "source": [
    "# Structure of class\n",
    "'''\n",
    "class 클래스이름():\n",
    "    def __init__(self, 속성1, 속성2):\n",
    "        self.속성1 = 속성1\n",
    "        self.속성2 = 속성2\n",
    "    def 함수이름(self):\n",
    "        <수행문>\n",
    "        return <반환 값>\n",
    "\n",
    "객체 = 클래스이름('속성1', '속성2')\n",
    "'''"
   ]
  },
  {
   "cell_type": "code",
   "execution_count": 12,
   "metadata": {},
   "outputs": [
    {
     "name": "stdout",
     "output_type": "stream",
     "text": [
      "Hong gil-dong\n",
      "My name is Hong gil-dong, and I'm 20 years old.\n"
     ]
    }
   ],
   "source": [
    "class Student():\n",
    "    def __init__(self, name, age):\n",
    "        self.name = name\n",
    "        self.age = age\n",
    "    def about_me(self):\n",
    "        print(\"My name is {0}, and I'm {1} years old.\".format(self.name, self.age))\n",
    "    \n",
    "student1 = Student('Hong gil-dong', 20)\n",
    "print(student1.name)\n",
    "print(student1.age)\n",
    "student1.about_me()\n"
   ]
  },
  {
   "cell_type": "markdown",
   "metadata": {},
   "source": [
    "* `__init__` 함수는 객체 초기화 함수로 새로운 데이터가 입력될 때마다 클래스를 초기화한다.\n",
    "* 이 함수는 스스로를 가리키는 self와 속성 name, age를 갖는다. 즉, name, age에 새로운 정보가 입력될 때마다 기존 데이터를 초기화한 후 스스로에게 새 정보를 부여하는 것이다.\n",
    "* 만약 클래스 속성 중 다른 사람의 접근을 불허하려는 속성이 있다면, 속성 앞에 `__`를 붙여 private속성을 부여하면 된다. ex) self.age -> self.__age"
   ]
  },
  {
   "cell_type": "markdown",
   "metadata": {},
   "source": [
    "* PEP8에선 %방식보다 .format()을 사용하는 걸 권고한다."
   ]
  },
  {
   "cell_type": "code",
   "execution_count": 10,
   "metadata": {},
   "outputs": [
    {
     "name": "stdout",
     "output_type": "stream",
     "text": [
      "4/5 = 0.8\n",
      "4/5 = 0\n"
     ]
    }
   ],
   "source": [
    "i = 5\n",
    "res = 4/5\n",
    "print('4/{0} = {1}'.format(i, res))\n",
    "print('4/%d = %d'%(i, res))"
   ]
  },
  {
   "cell_type": "markdown",
   "metadata": {},
   "source": [
    "### 모듈\n",
    "* 모듈(module)은 여러 개의 함수 또는 클래스의 묶음을 말한다.\n",
    "* 모듈은 py 확장자다.\n",
    "* import, from module import class 등으로 호출한 모듈은, 프로그램에 사용되는 순간 컴파일되어 `__pycache__`폴더 안에 임시로 저장된다."
   ]
  },
  {
   "cell_type": "markdown",
   "metadata": {},
   "source": [
    "### 패키지\n",
    "* Package란 여러 개의 모듈을 모아 놓은 단위로, 하나의 독립적인 프로그램이다.\n",
    "* pkg 확장자를 쓴다.\n",
    "* 패키지는 폴더와 모듈로 구성되며, 각 폴더에는 `__init__.py` 파일이 있어, 해당 폴더가 패키지의 일부임을 알려준다.\n",
    "* 단, 가장 상위의 `__init__.py`은 각 폴더를 연결해 주는 역할을 한다."
   ]
  },
  {
   "cell_type": "code",
   "execution_count": null,
   "metadata": {},
   "outputs": [],
   "source": [
    "# 패키지의 구조\n",
    "\n",
    "'''\n",
    "game/               # 패키지 이름\n",
    "    sound/          # 폴더\n",
    "        __init__.py # 이 폴더가 패키지의 일부임을 확인\n",
    "        echo.py     # 모듈\n",
    "        wav.py\n",
    "    graphic/\n",
    "        __init__.py\n",
    "        screen.py\n",
    "        render.py\n",
    "    play/\n",
    "        __init__.py\n",
    "        run.py\n",
    "    __init__.py     # 패키지 초기화 스크립트\n",
    "    __main__.py     # 윈도우즈의 exe과 같은 실행 파일\n",
    "\n",
    "# 최상위 __init__.py\n",
    "__all__ = ['sound', 'graphic', 'play']\n",
    "import sound\n",
    "import graphic\n",
    "import play\n",
    "\n",
    "# sound 폴더 내의 __init__.py\n",
    "__all__ = ['echo', 'wav'] # 모듈명 입력\n",
    "    import echo # 모듈 호출\n",
    "    import wav\n",
    "\n",
    "\n",
    "# __main__.py\n",
    "from sound.echo import echo_test\n",
    "from graphic.render import render_test\n",
    "\n",
    "if __name__ = '__main__':\n",
    "    echo_test()\n",
    "    render_test()\n",
    "\n",
    "'''"
   ]
  }
 ],
 "metadata": {
  "kernelspec": {
   "display_name": "Python 3.7.7 64-bit",
   "language": "python",
   "name": "python3"
  },
  "language_info": {
   "codemirror_mode": {
    "name": "ipython",
    "version": 3
   },
   "file_extension": ".py",
   "mimetype": "text/x-python",
   "name": "python",
   "nbconvert_exporter": "python",
   "pygments_lexer": "ipython3",
   "version": "3.7.7"
  },
  "orig_nbformat": 4,
  "vscode": {
   "interpreter": {
    "hash": "d49c3f6d6dd49f9272b571d9fad348ab55b8c6c3f691520d74ed0af1f69c3dd8"
   }
  }
 },
 "nbformat": 4,
 "nbformat_minor": 2
}
