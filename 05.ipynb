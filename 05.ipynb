{
 "cells": [
  {
   "cell_type": "markdown",
   "metadata": {},
   "source": [
    "# 제5장 빅데이터 시각화와 분석"
   ]
  },
  {
   "cell_type": "markdown",
   "metadata": {},
   "source": [
    "* 오래전에 공부한 내용을 ipynb형식으로 변경한 것임."
   ]
  },
  {
   "cell_type": "markdown",
   "metadata": {},
   "source": [
    "### 한글 형태소 분석\n",
    "* KoNLPy 패키지는 형태소 분석에 적합하다."
   ]
  },
  {
   "cell_type": "code",
   "execution_count": null,
   "metadata": {},
   "outputs": [],
   "source": [
    "from konlpy.tag import Kkma\n",
    "\n",
    "kkma = Kkma()\n",
    "print(kkma.pos('한국어 형태소 분석은 재미있다.'))\n",
    "\n",
    "from collections import Counter\n",
    "pos = kkma.pos('한국어 형태소')\n",
    "count = Counter(pos)\n"
   ]
  },
  {
   "cell_type": "markdown",
   "metadata": {},
   "source": [
    "* Kkma를 계승한 것이 kkma이다."
   ]
  },
  {
   "cell_type": "code",
   "execution_count": null,
   "metadata": {},
   "outputs": [],
   "source": [
    "from collections import Counter\n",
    "\n",
    "pos = kkma.pos('한국어 형태소 분석은 재미습니다')\n",
    "count = Counter(pos)\n",
    "print(count)"
   ]
  },
  {
   "cell_type": "markdown",
   "metadata": {},
   "source": [
    "* 맥 환경은 utf-8이 기본 인코딩 방식이지만, 한글 윈도우는 기본 인코딩이 cp949라 utf-8 변환이 필요하다.\n",
    "* KoNLPy에는 Twitter 형태소 분석기를 내장하고 있다. `from knolpy.tag import Twitter`"
   ]
  },
  {
   "cell_type": "markdown",
   "metadata": {},
   "source": [
    "### 워드클라우드\n",
    "* 데이터 시각화에는 Word Cloud / Semantic Analysis(의미망 분석) / ML, DL 등의 기법이 있다.\n",
    "* 워드클라우드 사용 시 한글 글꼴이 깨지는 경우가 있다. 이럴 경우, 구글이 개발한 NotoSansCJKkrDemiLight와 같이 깨지지 않는 폰트를 사용하면 된다."
   ]
  },
  {
   "cell_type": "markdown",
   "metadata": {},
   "source": [
    "### 의미망 분석\n",
    "* 의미망 분석은 관계망 분석(Network Analysis)의 한 유형이다.\n",
    "* 관계망이란 행위자를 기본 단위로 연결된 관계를 의미한다.\n",
    "* 관계망을 통해, 관계의 속성, 대표성 등을 파악할 수 있다.\n",
    "* 관계망 분석은 사회 연결망 분석Social Network Analysis과 의미망 분석Semantic Analysis로 구분된다. 전자의 행위자는 사람, 단체, 사회 후자의 행위자는 단어, 문구, 문장 등이 된다."
   ]
  },
  {
   "cell_type": "markdown",
   "metadata": {},
   "source": [
    "### 관계망\n",
    "* 관계망에서의 행위자를 노드라 한다.\n",
    "* 노드와 노드의 관계를 에지edge라 한다.\n",
    "* 한 노드가 다른 노드를 일방적으로 좇는 경우를 일방향적 관계directional relation, 서로 상호 연결되어 있는 경우 양방향적 관계unidirectional relation라 한다.\n",
    "* 노드 간의 관계가 밀접하지 않은 Random network / 소수의 중심 노드에서 다른 소규모 노드들이 연결되어 있는 scalefree network / 모든 노드가 서로 연관된 밀접한 small world network 등이 있다."
   ]
  },
  {
   "cell_type": "markdown",
   "metadata": {},
   "source": []
  },
  {
   "cell_type": "code",
   "execution_count": null,
   "metadata": {},
   "outputs": [],
   "source": [
    "import networkx as nx\n",
    "import matplotlib.pyplot as plot\n",
    "\n",
    "g2 = nx.Graph()\n",
    "\n",
    "paths = [(1,2), (1,3), (3,4), (4,5), (4,1)]\n",
    "for p in paths:\n",
    "    g2.add_edge(p[0], p[1])\n",
    "\n",
    "pos = nx.spring_layout(g2)\n",
    "nx.draw_networkx_nodes(g2, pos)\n",
    "nx.draw_networkx_edges(g2, pos)\n",
    "\n",
    "nx.draw_networkx_labels(g2, pos)\n",
    "\n",
    "edgeLabels = {pair: x for x, pair in enumerate(paths)}\n",
    "nx.draw_networkx_edge_labels(g2, pos, edge_labels = edgeLabels)\n",
    "\n",
    "plot.savefig('network_eg01.png')\n",
    "plot.axis('off')\n",
    "plot.close"
   ]
  }
 ],
 "metadata": {
  "kernelspec": {
   "display_name": "Python 3.7.7 64-bit",
   "language": "python",
   "name": "python3"
  },
  "language_info": {
   "codemirror_mode": {
    "name": "ipython",
    "version": 3
   },
   "file_extension": ".py",
   "mimetype": "text/x-python",
   "name": "python",
   "nbconvert_exporter": "python",
   "pygments_lexer": "ipython3",
   "version": "3.7.7"
  },
  "orig_nbformat": 4,
  "vscode": {
   "interpreter": {
    "hash": "d49c3f6d6dd49f9272b571d9fad348ab55b8c6c3f691520d74ed0af1f69c3dd8"
   }
  }
 },
 "nbformat": 4,
 "nbformat_minor": 2
}
