{
 "cells": [
  {
   "cell_type": "markdown",
   "metadata": {},
   "source": [
    "# 제5장 빅데이터 시각화와 분석"
   ]
  },
  {
   "cell_type": "markdown",
   "metadata": {},
   "source": [
    "* 오래전에 공부한 내용을 ipynb형식으로 변경한 것임."
   ]
  },
  {
   "cell_type": "markdown",
   "metadata": {},
   "source": [
    "### 한글 형태소 분석\n",
    "* KoNLPy 패키지는 형태소 분석에 적합하다."
   ]
  },
  {
   "cell_type": "code",
   "execution_count": null,
   "metadata": {},
   "outputs": [],
   "source": [
    "from konlpy.tag import Kkma\n",
    "\n",
    "kkma = Kkma()\n",
    "print(kkma.pos('한국어 형태소 분석은 재미있다.'))\n",
    "\n",
    "from collections import Counter\n",
    "pos = kkma.pos('한국어 형태소')\n",
    "count = Counter(pos)\n"
   ]
  },
  {
   "cell_type": "markdown",
   "metadata": {},
   "source": [
    "* Kkma를 계승한 것이 kkma이다."
   ]
  },
  {
   "cell_type": "code",
   "execution_count": null,
   "metadata": {},
   "outputs": [],
   "source": [
    "from collections import Counter\n",
    "\n",
    "pos = kkma.pos('한국어 형태소 분석은 재미습니다')\n",
    "count = Counter(pos)\n",
    "print(count)"
   ]
  },
  {
   "cell_type": "markdown",
   "metadata": {},
   "source": [
    "* 맥 환경은 utf-8이 기본 인코딩 방식이지만, 한글 윈도우는 기본 인코딩이 cp949라 utf-8 변환이 필요하다.\n",
    "* KoNLPy에는 Twitter 형태소 분석기를 내장하고 있다. `from knolpy.tag import Twitter`"
   ]
  },
  {
   "cell_type": "markdown",
   "metadata": {},
   "source": [
    "### 워드클라우드\n",
    "* 데이터 시각화에는 Word Cloud / Semantic Analysis(의미망 분석) / ML, DL 등의 기법이 있다.\n",
    "* 워드클라우드 사용 시 한글 글꼴이 깨지는 경우가 있다. 이럴 경우, 구글이 개발한 NotoSansCJKkrDemiLight와 같이 깨지지 않는 폰트를 사용하면 된다."
   ]
  },
  {
   "cell_type": "markdown",
   "metadata": {},
   "source": [
    "### 의미망 분석\n",
    "* 의미망 분석은 관계망 분석(Network Analysis)의 한 유형이다.\n",
    "* 관계망이란 행위자를 기본 단위로 연결된 관계를 의미한다.\n",
    "* 관계망을 통해, 관계의 속성, 대표성 등을 파악할 수 있다.\n",
    "* 관계망 분석은 사회 연결망 분석Social Network Analysis과 의미망 분석Semantic Analysis로 구분된다. 전자의 행위자는 사람, 단체, 사회 후자의 행위자는 단어, 문구, 문장 등이 된다."
   ]
  },
  {
   "cell_type": "markdown",
   "metadata": {},
   "source": [
    "### 관계망\n",
    "* 관계망에서의 행위자를 노드라 한다.\n",
    "* 노드와 노드의 관계를 에지edge라 한다.\n",
    "* 한 노드가 다른 노드를 일방적으로 좇는 경우를 일방향적 관계directional relation, 서로 상호 연결되어 있는 경우 양방향적 관계unidirectional relation라 한다.\n",
    "* 노드 간의 관계가 밀접하지 않은 Random network / 소수의 중심 노드에서 다른 소규모 노드들이 연결되어 있는 scalefree network / 모든 노드가 서로 연관된 밀접한 small world network 등이 있다."
   ]
  },
  {
   "cell_type": "code",
   "execution_count": 99,
   "metadata": {},
   "outputs": [
    {
     "data": {
      "text/plain": [
       "<function matplotlib.pyplot.close(fig=None)>"
      ]
     },
     "execution_count": 99,
     "metadata": {},
     "output_type": "execute_result"
    },
    {
     "data": {
      "image/png": "[encoded data removed]",
      "text/plain": [
       "<Figure size 432x288 with 1 Axes>"
      ]
     },
     "metadata": {},
     "output_type": "display_data"
    }
   ],
   "source": [
    "import networkx as nx\n",
    "import matplotlib.pyplot as plot\n",
    "from operator import itemgetter\n",
    "\n",
    "g2 = nx.Graph()\n",
    "\n",
    "paths = [('A', 'B'), ('B', 'D'), ('D','C'), ('D','F'), ('D','E')] #edge list\n",
    "for p in paths:\n",
    "    g2.add_edge(p[0], p[1])\n",
    "\n",
    "\n",
    "pos = nx.spring_layout(g2)\n",
    "nx.draw_networkx_nodes(g2, pos)\n",
    "nx.draw_networkx_edges(g2, pos)\n",
    "\n",
    "nx.draw_networkx_labels(g2, pos) # 노드에 레이블을 붙임.\n",
    "\n",
    "plot.savefig('network_ex.png')\n",
    "plot.axis('off')\n",
    "plot.close"
   ]
  },
  {
   "cell_type": "markdown",
   "metadata": {},
   "source": [
    "### edge\n",
    "* `G.add_node('hello')` : 노드 'hello'를 추가한다.\n",
    "* `G.add_edge(1, 'hello')` : 노드 1과 노드 hello를 연결하는 에지를 추가한다."
   ]
  },
  {
   "cell_type": "markdown",
   "metadata": {},
   "source": [
    "### 네트워크 중심 측정 방식\n",
    "1. 연결정도 중심성 Degree Centrality\n",
    "* 노드에 연결된 다른 노드들의 숫자를 기준으로 연결의 중심을 파악하는 방식\n",
    "* $\\frac{degree}{Max. of degree} = \\frac{degree}{n-1}$ degree : 연결정도 수, Max. of degree : 연결될 수 있는 최대 연결 정도, n : 노드 수\n",
    "  \n",
    "2. 매개 중심성 Betweenness Centrality\n",
    "* 노드가 다른 노드 쌍의 경로에 위치한 숫자로 측정된다.\n",
    "* 즉, 부동산 중개인처럼 구매자와 판매자 사이에 있어 양쪽의 정보를 통제하는 사람이 중요하다는 인식이다.\n",
    "* $\\frac{Between Pairs}{No. of shortest paths} = \\frac{Between Pairs}{(n-1)(n-2)/2}$ Between Pairs : 다른 노드 쌍의 경로에 놓인 수, No. of shortest paths : 단순 경로의 수\n",
    "  \n",
    "3. 인접 중심성 Close Centrality\n",
    "* 한 노드에서 다른 노드로 연결되는 데 필요한 경로의 숫자\n",
    "* 즉, 얼마나 짧게 다른 노드와 연결되어 있어, 정보를 신속하게 전파할 수 있는가로 중심성을 파악하는 방법.\n",
    "* 마치 오피니언 리더처럼 다른 사람에게 가장 빨리 연결될 수 있는 사람이 중심적이라는 인식.\n",
    "* $\\frac{Max. of degree}{No. of paths} = \\frac{n-1}{No. of paths}$ No. of paths : 한 노드가 다른 노드에 닿는 경로의 총수"
   ]
  },
  {
   "cell_type": "code",
   "execution_count": 18,
   "metadata": {},
   "outputs": [
    {
     "name": "stdout",
     "output_type": "stream",
     "text": [
      "[1, 2, 3, 4, 5, 'six', 'hello']\n",
      "[(1, 2), (2, 3), (3, 5), (5, 'six')]\n",
      "[(1, 2, {'weight': 2.3}), (2, 3, {}), (3, 5, {}), (5, 'six', {})]\n",
      "4\n"
     ]
    }
   ],
   "source": [
    "import networkx as nx\n",
    "\n",
    "g = nx.Graph()\n",
    "\n",
    "# node\n",
    "g.add_node(1)\n",
    "g.add_node(2)\n",
    "g.add_nodes_from([3, 4, 5, 'six', 'hello'])\n",
    "g.nodes[1]['type'] = 'number'\n",
    "\n",
    "print(g.nodes())\n",
    "g.nodes[1]\n",
    "g.nodes[2]\n",
    "g.nodes(data= True)\n",
    "len(g)\n",
    "\n",
    "# edge\n",
    "g.add_edge(1,2)\n",
    "g.add_edges_from([(2,3),(3,5),(5,'six')])\n",
    "g[1][2]['weight'] = 2.3\n",
    "\n",
    "print(g.edges()) # edge 전체 출력\n",
    "print(g.edges(data=True)) # edge에 포함된 속성 값 출력\n",
    "print(g.number_of_edges()) # 전체 에지 숫자"
   ]
  },
  {
   "cell_type": "markdown",
   "metadata": {},
   "source": [
    "### Code 정리\n",
    "* 책에는 g.node라고 되어있으나, 현시점에선 g.nodes가 옳다.\n",
    "* `g.nodes[1]['type'] = 'number'`이런 식으로 각 노드에 속성을 지정할 수 있다.\n",
    "* `g.add_edges_from([(2,3),(3,5),(5,'six')])`는 노드2와 3, 노드3과 5, 노드 5와 'six'간의 에지가 설정된다.\n",
    "* 에지의 속성도 지정할 수 있다. `g[1][2]['weight'] = 2.3`는 에지(1,2)의 강도를 2.3으로 하겠다는 뜻이다.\n",
    "* 일반적으로는 노드와 에지를 하나씩 별도로 설정하지는 않는다. 아래 코드 참고"
   ]
  },
  {
   "cell_type": "markdown",
   "metadata": {},
   "source": [
    "### NetworkX's Layout\n",
    "|function|explanaiton|\n",
    "|---|---|\n",
    "|circular_layout()|원 위에 놓기|\n",
    "|spring_layout()|관계가 강할수록 가깝게 놓기|\n",
    "|spectral_layout()|Laplacian 방식을 이용하여 관계가 강할수록 가깝게 놓기|\n",
    "|random_layout()|균등하게 놓기|"
   ]
  },
  {
   "cell_type": "code",
   "execution_count": 21,
   "metadata": {},
   "outputs": [
    {
     "name": "stdout",
     "output_type": "stream",
     "text": [
      "중심성 수치\n",
      "{1: 0.75, 2: 0.25, 3: 0.5, 4: 0.75, 5: 0.25}\n",
      "{1: 0.5, 2: 0.0, 3: 0.0, 4: 0.5, 5: 0.0}\n",
      "{1: 0.8, 2: 0.5, 3: 0.6666666666666666, 4: 0.8, 5: 0.5}\n",
      "정렬하기\n",
      "[(1, 0.75), (4, 0.75), (3, 0.5)]\n"
     ]
    },
    {
     "data": {
      "image/png": "[encoded data removed]",
      "text/plain": [
       "<Figure size 432x288 with 1 Axes>"
      ]
     },
     "metadata": {},
     "output_type": "display_data"
    }
   ],
   "source": [
    "import networkx as nx\n",
    "import matplotlib.pyplot as plot\n",
    "from operator import itemgetter\n",
    "\n",
    "g2 = nx.Graph()\n",
    "\n",
    "paths = [(1,2), (1,3), (3,4), (4,5), (4,1)] #edge list\n",
    "for p in paths:\n",
    "    g2.add_edge(p[0], p[1])\n",
    "\n",
    "pos = nx.spring_layout(g2)\n",
    "nx.draw_networkx_nodes(g2, pos)\n",
    "nx.draw_networkx_edges(g2, pos)\n",
    "\n",
    "nx.draw_networkx_labels(g2, pos) # 노드에 레이블을 붙임.\n",
    "\n",
    "edgeLabels = {pair: x for x, pair in enumerate(paths)} #노드 쌍의 위치 값을 레이블 정보로 생성하여 추가\n",
    "nx.draw_networkx_edge_labels(g2, pos, edge_labels = edgeLabels) # 에지에 레이블을 붙임.\n",
    "\n",
    "plot.savefig('network_eg01.png')\n",
    "#plot.axis('off') X축, Y축 생략\n",
    "plot.close\n",
    "\n",
    "print('중심성 수치')\n",
    "print(nx.degree_centrality(g2))\n",
    "print(nx.betweenness_centrality(g2))\n",
    "print(nx.closeness_centrality(g2))\n",
    "\n",
    "print('정렬하기')\n",
    "degree_cent = nx.degree_centrality(g2)\n",
    "degree_sorted = sorted(degree_cent.items(), key=itemgetter(1), reverse=True)\n",
    "print(degree_sorted[0:3])"
   ]
  },
  {
   "cell_type": "markdown",
   "metadata": {},
   "source": [
    "### operator/ itemgetter\n",
    "* sorted 함수로 정렬할 수 있으나, 사전 자료의 경우, key를 기준으로 정렬할 것인지, value를 기준으로 정렬할 것인지 설정해야한다.\n",
    "* 관계망의 중심성 수치는 사전형( {노드:중심성수치} )으로 되어있다. 어떤 것을 기준으로 정렬할지 결정하려면 itemgetter 함수가 적절하다.\n",
    "* 위에선, itemgetter(0)의 경우 노드를 기준으로 정렬하며, itemgetter(1)의 경우 중심성 수치를 기준으로 정렬한다."
   ]
  }
 ],
 "metadata": {
  "kernelspec": {
   "display_name": "Python 3.8.10 ('ML_tools')",
   "language": "python",
   "name": "python3"
  },
  "language_info": {
   "codemirror_mode": {
    "name": "ipython",
    "version": 3
   },
   "file_extension": ".py",
   "mimetype": "text/x-python",
   "name": "python",
   "nbconvert_exporter": "python",
   "pygments_lexer": "ipython3",
   "version": "3.8.10"
  },
  "orig_nbformat": 4,
  "vscode": {
   "interpreter": {
    "hash": "a3642eb5473cd7c22e8bc4b066b978c4ecd369f77d4df42c3de8b91af479e21f"
   }
  }
 },
 "nbformat": 4,
 "nbformat_minor": 2
}
