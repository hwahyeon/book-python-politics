{
 "cells": [
  {
   "cell_type": "markdown",
   "metadata": {},
   "source": [
    "# 제5장 빅데이터 시각화와 분석"
   ]
  },
  {
   "cell_type": "markdown",
   "metadata": {},
   "source": [
    "* 오래전에 공부한 내용을 ipynb형식으로 변경한 것임."
   ]
  },
  {
   "cell_type": "markdown",
   "metadata": {},
   "source": [
    "### 한글 형태소 분석\n",
    "* KoNLPy 패키지는 형태소 분석에 적합하다."
   ]
  },
  {
   "cell_type": "code",
   "execution_count": null,
   "metadata": {},
   "outputs": [],
   "source": [
    "from konlpy.tag import Kkma\n",
    "\n",
    "kkma = Kkma()\n",
    "print(kkma.pos('한국어 형태소 분석은 재미있다.'))\n",
    "\n",
    "from collections import Counter\n",
    "pos = kkma.pos('한국어 형태소')\n",
    "count = Counter(pos)\n"
   ]
  },
  {
   "cell_type": "markdown",
   "metadata": {},
   "source": [
    "* Kkma를 계승한 것이 kkma이다."
   ]
  },
  {
   "cell_type": "code",
   "execution_count": null,
   "metadata": {},
   "outputs": [],
   "source": [
    "from collections import Counter\n",
    "\n",
    "pos = kkma.pos('한국어 형태소 분석은 재미습니다')\n",
    "count = Counter(pos)\n",
    "print(count)"
   ]
  },
  {
   "cell_type": "markdown",
   "metadata": {},
   "source": [
    "* 맥 환경은 utf-8이 기본 인코딩 방식이지만, 한글 윈도우는 기본 인코딩이 cp949라 utf-8 변환이 필요하다.\n",
    "* KoNLPy에는 Twitter 형태소 분석기를 내장하고 있다. `from knolpy.tag import Twitter`"
   ]
  },
  {
   "cell_type": "markdown",
   "metadata": {},
   "source": [
    "### 워드클라우드\n",
    "* 데이터 시각화에는 Word Cloud / Semantic Analysis(의미망 분석) / ML, DL 등의 기법이 있다.\n",
    "* 워드클라우드 사용 시 한글 글꼴이 깨지는 경우가 있다. 이럴 경우, 구글이 개발한 NotoSansCJKkrDemiLight와 같이 깨지지 않는 폰트를 사용하면 된다."
   ]
  },
  {
   "cell_type": "markdown",
   "metadata": {},
   "source": [
    "### 의미망 분석\n",
    "* 의미망 분석은 관계망 분석(Network Analysis)의 한 유형이다.\n",
    "* 관계망이란 행위자를 기본 단위로 연결된 관계를 의미한다.\n",
    "* 관계망을 통해, 관계의 속성, 대표성 등을 파악할 수 있다.\n",
    "* 관계망 분석은 사회 연결망 분석Social Network Analysis과 의미망 분석Semantic Analysis로 구분된다. 전자의 행위자는 사람, 단체, 사회 후자의 행위자는 단어, 문구, 문장 등이 된다."
   ]
  },
  {
   "cell_type": "markdown",
   "metadata": {},
   "source": [
    "### 관계망\n",
    "* 관계망에서의 행위자를 노드라 한다.\n",
    "* 노드와 노드의 관계를 에지edge라 한다.\n",
    "* 한 노드가 다른 노드를 일방적으로 좇는 경우를 일방향적 관계directional relation, 서로 상호 연결되어 있는 경우 양방향적 관계unidirectional relation라 한다.\n",
    "* 노드 간의 관계가 밀접하지 않은 Random network / 소수의 중심 노드에서 다른 소규모 노드들이 연결되어 있는 scalefree network / 모든 노드가 서로 연관된 밀접한 small world network 등이 있다."
   ]
  },
  {
   "cell_type": "markdown",
   "metadata": {},
   "source": [
    "### 네트워크 중심 측정 방식\n",
    "1. 연결정도 중심성 Degree Centrality\n",
    "* 노드에 연결된 다른 노드들의 숫자를 기준으로 연결의 중심을 파악하는 방식\n",
    "* $\\frac{degree}{Max. of degree} = \\frac{degree}{n-1}$ degree : 연결정도 수, Max. of degree : 연결될 수 있는 최대 연결 정도, n : 노드 수\n",
    "  \n",
    "2. 매개 중심성 Betweenness Centrality\n",
    "* 노드가 다른 노드 쌍의 경로에 위치한 숫자로 측정된다.\n",
    "* 즉, 부동산 중개인처럼 구매자와 판매자 사이에 있어 양쪽의 정보를 통제하는 사람이 중요하다는 인식이다.\n",
    "* $\\frac{Between Pairs}{No. of shortest paths} = \\frac{Between Pairs}{(n-1)(n-2)/2}$ Between Pairs : 다른 노드 쌍의 경로에 놓인 수, No. of shortest paths : 단순 경로의 수\n",
    "  \n",
    "3. 인접 중심성 Close Centrality\n",
    "* 한 노드에서 다른 노드로 연결되는 데 필요한 경로의 숫자\n",
    "* 즉, 얼마나 짧게 달느 노드와 연결되어 있어, 정보를 신속하게 전파할 수 있는가로 중심성을 파악하는 방법."
   ]
  },
  {
   "cell_type": "code",
   "execution_count": 2,
   "metadata": {},
   "outputs": [
    {
     "ename": "AttributeError",
     "evalue": "'Graph' object has no attribute 'node'",
     "output_type": "error",
     "traceback": [
      "\u001b[1;31m---------------------------------------------------------------------------\u001b[0m",
      "\u001b[1;31mAttributeError\u001b[0m                            Traceback (most recent call last)",
      "\u001b[1;32m~\\AppData\\Local\\Temp/ipykernel_21816/664898400.py\u001b[0m in \u001b[0;36m<module>\u001b[1;34m\u001b[0m\n\u001b[0;32m      7\u001b[0m \u001b[0mg\u001b[0m\u001b[1;33m.\u001b[0m\u001b[0madd_node\u001b[0m\u001b[1;33m(\u001b[0m\u001b[1;36m2\u001b[0m\u001b[1;33m)\u001b[0m\u001b[1;33m\u001b[0m\u001b[1;33m\u001b[0m\u001b[0m\n\u001b[0;32m      8\u001b[0m \u001b[0mg\u001b[0m\u001b[1;33m.\u001b[0m\u001b[0madd_nodes_from\u001b[0m\u001b[1;33m(\u001b[0m\u001b[1;33m[\u001b[0m\u001b[1;36m3\u001b[0m\u001b[1;33m,\u001b[0m\u001b[1;36m4\u001b[0m\u001b[1;33m,\u001b[0m\u001b[1;36m5\u001b[0m\u001b[1;33m,\u001b[0m\u001b[1;34m'six'\u001b[0m\u001b[1;33m,\u001b[0m \u001b[1;34m'hello'\u001b[0m\u001b[1;33m]\u001b[0m\u001b[1;33m)\u001b[0m\u001b[1;33m\u001b[0m\u001b[1;33m\u001b[0m\u001b[0m\n\u001b[1;32m----> 9\u001b[1;33m \u001b[0mg\u001b[0m\u001b[1;33m.\u001b[0m\u001b[0mnode\u001b[0m\u001b[1;33m[\u001b[0m\u001b[1;36m1\u001b[0m\u001b[1;33m]\u001b[0m\u001b[1;33m[\u001b[0m\u001b[1;34m'type'\u001b[0m\u001b[1;33m]\u001b[0m \u001b[1;33m=\u001b[0m \u001b[1;34m'number'\u001b[0m\u001b[1;33m\u001b[0m\u001b[1;33m\u001b[0m\u001b[0m\n\u001b[0m\u001b[0;32m     10\u001b[0m \u001b[1;33m\u001b[0m\u001b[0m\n\u001b[0;32m     11\u001b[0m \u001b[0mg\u001b[0m\u001b[1;33m.\u001b[0m\u001b[0mnodes\u001b[0m\u001b[1;33m(\u001b[0m\u001b[1;33m)\u001b[0m\u001b[1;33m\u001b[0m\u001b[1;33m\u001b[0m\u001b[0m\n",
      "\u001b[1;31mAttributeError\u001b[0m: 'Graph' object has no attribute 'node'"
     ]
    }
   ],
   "source": [
    "import networkx as nx\n",
    "\n",
    "g = nx.Graph()\n",
    "\n",
    "# node\n",
    "g.add_node(1)\n",
    "g.add_node(2)\n",
    "g.add_nodes_from([3, 4, 5, 'six', 'hello'])\n",
    "g.node[1]['type'] = 'number'\n",
    "\n",
    "g.nodes()\n",
    "g.node[1]\n",
    "g.node[2]\n",
    "g.nodes(data= True)\n",
    "len(g)\n",
    "\n",
    "# edge\n",
    "g.add_edge(1,2)\n",
    "g.add_edges_from([(2,3),(3,5),(5,'six')])\n",
    "g[1][2]['weight'] = 2.3\n",
    "\n",
    "g.edges()\n",
    "g.edges(data=True)"
   ]
  },
  {
   "cell_type": "markdown",
   "metadata": {},
   "source": [
    "### NetworkX's Layout\n",
    "|function|explanaiton|\n",
    "|---|---|\n",
    "|circular_layout()|원 위에 놓기|\n",
    "|spring_layout()|관계가 강할수록 가깝게 놓기|\n",
    "|spectral_layout()|Laplacian 방식을 이용하여 관계가 강할수록 가깝게 놓기|\n",
    "|random_layout()|균등하게 놓기|"
   ]
  },
  {
   "cell_type": "code",
   "execution_count": 5,
   "metadata": {},
   "outputs": [
    {
     "name": "stdout",
     "output_type": "stream",
     "text": [
      "{1: 0.75, 2: 0.25, 3: 0.5, 4: 0.75, 5: 0.25}\n",
      "{1: 0.5, 2: 0.0, 3: 0.0, 4: 0.5, 5: 0.0}\n",
      "{1: 0.8, 2: 0.5, 3: 0.6666666666666666, 4: 0.8, 5: 0.5}\n",
      "[(1, 0.75), (4, 0.75), (3, 0.5)]\n"
     ]
    },
    {
     "data": {
      "image/png": "[encoded data removed]",
      "text/plain": [
       "<Figure size 432x288 with 1 Axes>"
      ]
     },
     "metadata": {},
     "output_type": "display_data"
    }
   ],
   "source": [
    "import networkx as nx\n",
    "import matplotlib.pyplot as plot\n",
    "from operator import itemgetter\n",
    "\n",
    "g2 = nx.Graph()\n",
    "\n",
    "paths = [(1,2), (1,3), (3,4), (4,5), (4,1)] #edge list\n",
    "for p in paths:\n",
    "    g2.add_edge(p[0], p[1])\n",
    "\n",
    "pos = nx.spring_layout(g2)\n",
    "nx.draw_networkx_nodes(g2, pos)\n",
    "nx.draw_networkx_edges(g2, pos)\n",
    "\n",
    "nx.draw_networkx_labels(g2, pos) # 노드에 레이블을 붙임.\n",
    "\n",
    "edgeLabels = {pair: x for x, pair in enumerate(paths)} #노드 쌍의 위치 값을 레이블 정보로 생성하여 추가\n",
    "nx.draw_networkx_edge_labels(g2, pos, edge_labels = edgeLabels) # 에지에 레이블을 붙임.\n",
    "\n",
    "plot.savefig('network_eg01.png')\n",
    "#plot.axis('off') X축, Y축 생략\n",
    "plot.close\n",
    "\n",
    "print('중심성 수치')\n",
    "print(nx.degree_centrality(g2))\n",
    "print(nx.betweenness_centrality(g2))\n",
    "print(nx.closeness_centrality(g2))\n",
    "\n",
    "print('정렬하기')\n",
    "degree_cent = nx.degree_centrality(g2)\n",
    "degree_sorted = sorted(degree_cent.items(), key=itemgetter(1), reverse=True)\n",
    "print(degree_sorted[0:3])"
   ]
  },
  {
   "cell_type": "markdown",
   "metadata": {},
   "source": [
    "### operator/ itemgetter\n",
    "* sorted 함수로 정렬할 수 있으나, 사전 자료의 경우, key를 기준으로 정렬할 것인지, value를 기준으로 정렬할 것인지 설정해야한다.\n",
    "* 관계망의 중심성 수치는 사전형( {노드:중심성수치} )으로 되어있다. 어떤 것을 기준으로 정렬할지 결정하려면 itemgetter 함수가 적절하다.\n",
    "* 위에선, itemgetter(0)의 경우 노드를 기준으로 정렬하며, itemgetter(1)의 경우 중심성 수치를 기준으로 정렬한다."
   ]
  }
 ],
 "metadata": {
  "kernelspec": {
   "display_name": "Python 3.8.10 ('ML_tools')",
   "language": "python",
   "name": "python3"
  },
  "language_info": {
   "codemirror_mode": {
    "name": "ipython",
    "version": 3
   },
   "file_extension": ".py",
   "mimetype": "text/x-python",
   "name": "python",
   "nbconvert_exporter": "python",
   "pygments_lexer": "ipython3",
   "version": "3.8.10"
  },
  "orig_nbformat": 4,
  "vscode": {
   "interpreter": {
    "hash": "a3642eb5473cd7c22e8bc4b066b978c4ecd369f77d4df42c3de8b91af479e21f"
   }
  }
 },
 "nbformat": 4,
 "nbformat_minor": 2
}
